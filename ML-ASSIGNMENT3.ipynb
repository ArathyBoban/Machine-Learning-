{
 "cells": [
  {
   "cell_type": "code",
   "execution_count": null,
   "id": "99f2fb11-e824-44ac-943f-e78afda5dbc9",
   "metadata": {},
   "outputs": [],
   "source": [
    "#1.Loading and preprocessing"
   ]
  },
  {
   "cell_type": "code",
   "execution_count": 15,
   "id": "0b5afc51-cb89-4625-8538-c2e13c4b0afb",
   "metadata": {},
   "outputs": [],
   "source": [
    "import pandas as pd\n",
    "import matplotlib.pyplot as plt\n",
    "import seaborn as sns\n",
    "import numpy as np"
   ]
  },
  {
   "cell_type": "code",
   "execution_count": 21,
   "id": "aa3f4d13-f032-4cfc-a418-67bec2a203bf",
   "metadata": {},
   "outputs": [],
   "source": [
    "from sklearn.datasets import load_breast_cancer\n",
    "from sklearn.model_selection import train_test_split\n",
    "from sklearn.preprocessing import StandardScaler\n"
   ]
  },
  {
   "cell_type": "code",
   "execution_count": 51,
   "id": "ffe0e2ca-c857-4e4a-b384-1ca25ae8f774",
   "metadata": {},
   "outputs": [],
   "source": [
    "data = load_breast_cancer()\n",
    "X = pd.DataFrame(data.data, columns=data.feature_names)\n",
    "y = data.target"
   ]
  },
  {
   "cell_type": "code",
   "execution_count": 53,
   "id": "7fe7f581-7259-40eb-a610-781713f382eb",
   "metadata": {},
   "outputs": [],
   "source": [
    "missing_values = X.isnull().sum().sum()"
   ]
  },
  {
   "cell_type": "code",
   "execution_count": 55,
   "id": "3c456c4c-9125-4cfb-afeb-ffb1b32a59e2",
   "metadata": {},
   "outputs": [],
   "source": [
    "scaler = StandardScaler()\n",
    "X_scaled = scaler.fit_transform(X)"
   ]
  },
  {
   "cell_type": "code",
   "execution_count": 57,
   "id": "c12eae1a-5a8d-4443-a373-fa8a665ee540",
   "metadata": {},
   "outputs": [
    {
     "name": "stdout",
     "output_type": "stream",
     "text": [
      "Missing values in dataset: 0\n"
     ]
    }
   ],
   "source": [
    "X_train, X_test, y_train, y_test = train_test_split(X_scaled, y, test_size=0.2, random_state=42)\n",
    "print(f\"Missing values in dataset: {missing_values}\")"
   ]
  },
  {
   "cell_type": "code",
   "execution_count": null,
   "id": "7a50fa09-846e-4a0e-a3fd-a43aadf280b6",
   "metadata": {},
   "outputs": [],
   "source": [
    "#2.Classification algorithm implementation"
   ]
  },
  {
   "cell_type": "code",
   "execution_count": 35,
   "id": "99bc09db-f1b0-42e2-9736-67418dd197f0",
   "metadata": {},
   "outputs": [],
   "source": [
    "from sklearn.linear_model import LogisticRegression\n",
    "from sklearn.tree import DecisionTreeClassifier\n",
    "from sklearn.ensemble import RandomForestClassifier\n",
    "from sklearn.svm import SVC\n",
    "from sklearn.neighbors import KNeighborsClassifier\n",
    "from sklearn.metrics import accuracy_score"
   ]
  },
  {
   "cell_type": "code",
   "execution_count": 61,
   "id": "d86e49e7-73cc-4e0f-a09c-c45fd7e18054",
   "metadata": {},
   "outputs": [],
   "source": [
    "models = {\n",
    "    \"Logistic Regression\": LogisticRegression(random_state=42),\n",
    "    \"Decision Tree\": DecisionTreeClassifier(random_state=42),\n",
    "    \"Random Forest\": RandomForestClassifier(random_state=42, n_estimators=100),\n",
    "    \"SVM\": SVC(kernel='linear', random_state=42),\n",
    "    \"k-NN\": KNeighborsClassifier(n_neighbors=5)\n",
    "}"
   ]
  },
  {
   "cell_type": "code",
   "execution_count": 63,
   "id": "837bceeb-4c38-4d1c-820b-0090b3172df4",
   "metadata": {},
   "outputs": [
    {
     "name": "stdout",
     "output_type": "stream",
     "text": [
      "Logistic Regression: 0.9737\n",
      "Decision Tree: 0.9474\n",
      "Random Forest: 0.9649\n",
      "SVM: 0.9561\n",
      "k-NN: 0.9474\n"
     ]
    }
   ],
   "source": [
    "results = {}\n",
    "for name, model in models.items():\n",
    "    model.fit(X_train, y_train)\n",
    "    y_pred = model.predict(X_test)\n",
    "    accuracy = accuracy_score(y_test, y_pred)\n",
    "    results[name] = accuracy\n",
    "\n",
    "for model_name, accuracy in results.items():\n",
    "    print(f\"{model_name}: {accuracy:.4f}\")"
   ]
  },
  {
   "cell_type": "code",
   "execution_count": null,
   "id": "1fa2392b-076c-4aeb-8627-cc6677aab978",
   "metadata": {},
   "outputs": [],
   "source": [
    "#3.Model comparison"
   ]
  },
  {
   "cell_type": "code",
   "execution_count": 65,
   "id": "004d9fd8-d30b-44f1-a9ca-f44fd7d4733f",
   "metadata": {},
   "outputs": [
    {
     "name": "stdout",
     "output_type": "stream",
     "text": [
      "Best performing model: Logistic Regression with accuracy 0.9737\n",
      "Worstperforming model: Decision Tree with accuracy 0.9474\n"
     ]
    }
   ],
   "source": [
    "best_model = max(results, key=results.get)\n",
    "worst_model = min(results, key=results.get)\n",
    "\n",
    "print(f\"Best performing model: {best_model} with accuracy {results[best_model]:.4f}\")\n",
    "print(f\"Worstperforming model: {worst_model} with accuracy {results[worst_model]:.4f}\")\n"
   ]
  },
  {
   "cell_type": "code",
   "execution_count": null,
   "id": "72e24806-ac3b-40c5-80ce-9b9505101046",
   "metadata": {},
   "outputs": [],
   "source": [
    "##key observations:\n",
    "#Best performing model:Typically, Random Forest or SVM performs best due to their ability to handle complex patterns.\n",
    "#Worst performing model: Decisiom Tree or k-NN might perform the worst depending on overfitting or sensitivity to feature scaling.\n"
   ]
  }
 ],
 "metadata": {
  "kernelspec": {
   "display_name": "Python 3 (ipykernel)",
   "language": "python",
   "name": "python3"
  },
  "language_info": {
   "codemirror_mode": {
    "name": "ipython",
    "version": 3
   },
   "file_extension": ".py",
   "mimetype": "text/x-python",
   "name": "python",
   "nbconvert_exporter": "python",
   "pygments_lexer": "ipython3",
   "version": "3.12.4"
  }
 },
 "nbformat": 4,
 "nbformat_minor": 5
}
